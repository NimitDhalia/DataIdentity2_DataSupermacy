{
 "cells": [
  {
   "cell_type": "code",
   "execution_count": 67,
   "metadata": {},
   "outputs": [],
   "source": [
    "#lets upload train,test,submisison file in python environment\n",
    "\n",
    "import pandas as pd\n",
    "import numpy as np"
   ]
  },
  {
   "cell_type": "code",
   "execution_count": 68,
   "metadata": {},
   "outputs": [],
   "source": [
    "random_state=42"
   ]
  },
  {
   "cell_type": "code",
   "execution_count": 69,
   "metadata": {},
   "outputs": [],
   "source": [
    "#import train and test dataset\n",
    "train = pd.read_csv('train_jqd04QH.csv')\n",
    "test = pd.read_csv('test_GYi4Gz5.csv')\n"
   ]
  },
  {
   "cell_type": "code",
   "execution_count": 70,
   "metadata": {},
   "outputs": [],
   "source": [
    "#import submission format\n",
    "submission = pd.read_csv('sample_submission_sxfcbdx.csv')"
   ]
  },
  {
   "cell_type": "code",
   "execution_count": 71,
   "metadata": {},
   "outputs": [
    {
     "name": "stdout",
     "output_type": "stream",
     "text": [
      "(18359, 14)\n",
      "(15021, 13)\n",
      "(15021, 2)\n"
     ]
    }
   ],
   "source": [
    "#Lets look at strucutre of train,test,submission\n",
    "print(train.shape)\n",
    "print(test.shape)\n",
    "print(submission.shape)"
   ]
  },
  {
   "cell_type": "code",
   "execution_count": 72,
   "metadata": {},
   "outputs": [],
   "source": [
    "#log transformation for right skewed\n",
    "train['training_hours'] = np.log(train['training_hours'])"
   ]
  },
  {
   "cell_type": "code",
   "execution_count": 73,
   "metadata": {},
   "outputs": [],
   "source": [
    "#bins for city development_index\n",
    "bins = [0, 0.75,0.85,0.99]\n",
    "labels = ['l2','m','h5']\n",
    "train['CITY_DVLPMNT_binned'] = pd.cut(train['city_development_index'], bins=bins, labels=labels)"
   ]
  },
  {
   "cell_type": "code",
   "execution_count": 74,
   "metadata": {
    "scrolled": true
   },
   "outputs": [
    {
     "data": {
      "text/html": [
       "<div>\n",
       "<style scoped>\n",
       "    .dataframe tbody tr th:only-of-type {\n",
       "        vertical-align: middle;\n",
       "    }\n",
       "\n",
       "    .dataframe tbody tr th {\n",
       "        vertical-align: top;\n",
       "    }\n",
       "\n",
       "    .dataframe thead th {\n",
       "        text-align: right;\n",
       "    }\n",
       "</style>\n",
       "<table border=\"1\" class=\"dataframe\">\n",
       "  <thead>\n",
       "    <tr style=\"text-align: right;\">\n",
       "      <th></th>\n",
       "      <th>enrollee_id</th>\n",
       "      <th>city</th>\n",
       "      <th>city_development_index</th>\n",
       "      <th>gender</th>\n",
       "      <th>relevent_experience</th>\n",
       "      <th>enrolled_university</th>\n",
       "      <th>education_level</th>\n",
       "      <th>major_discipline</th>\n",
       "      <th>experience</th>\n",
       "      <th>company_size</th>\n",
       "      <th>company_type</th>\n",
       "      <th>last_new_job</th>\n",
       "      <th>training_hours</th>\n",
       "      <th>target</th>\n",
       "      <th>CITY_DVLPMNT_binned</th>\n",
       "    </tr>\n",
       "  </thead>\n",
       "  <tbody>\n",
       "    <tr>\n",
       "      <th>0</th>\n",
       "      <td>23798</td>\n",
       "      <td>city_149</td>\n",
       "      <td>0.689</td>\n",
       "      <td>Male</td>\n",
       "      <td>Has relevent experience</td>\n",
       "      <td>no_enrollment</td>\n",
       "      <td>Graduate</td>\n",
       "      <td>STEM</td>\n",
       "      <td>3</td>\n",
       "      <td>100-500</td>\n",
       "      <td>Pvt Ltd</td>\n",
       "      <td>1</td>\n",
       "      <td>4.663439</td>\n",
       "      <td>0</td>\n",
       "      <td>l2</td>\n",
       "    </tr>\n",
       "    <tr>\n",
       "      <th>1</th>\n",
       "      <td>29166</td>\n",
       "      <td>city_83</td>\n",
       "      <td>0.923</td>\n",
       "      <td>Male</td>\n",
       "      <td>Has relevent experience</td>\n",
       "      <td>no_enrollment</td>\n",
       "      <td>Graduate</td>\n",
       "      <td>STEM</td>\n",
       "      <td>14</td>\n",
       "      <td>&lt;10</td>\n",
       "      <td>Funded Startup</td>\n",
       "      <td>1</td>\n",
       "      <td>4.234107</td>\n",
       "      <td>0</td>\n",
       "      <td>h5</td>\n",
       "    </tr>\n",
       "    <tr>\n",
       "      <th>2</th>\n",
       "      <td>46</td>\n",
       "      <td>city_16</td>\n",
       "      <td>0.910</td>\n",
       "      <td>NaN</td>\n",
       "      <td>Has relevent experience</td>\n",
       "      <td>no_enrollment</td>\n",
       "      <td>Graduate</td>\n",
       "      <td>STEM</td>\n",
       "      <td>6</td>\n",
       "      <td>50-99</td>\n",
       "      <td>Public Sector</td>\n",
       "      <td>2</td>\n",
       "      <td>1.386294</td>\n",
       "      <td>0</td>\n",
       "      <td>h5</td>\n",
       "    </tr>\n",
       "    <tr>\n",
       "      <th>3</th>\n",
       "      <td>18527</td>\n",
       "      <td>city_64</td>\n",
       "      <td>0.666</td>\n",
       "      <td>Male</td>\n",
       "      <td>Has relevent experience</td>\n",
       "      <td>no_enrollment</td>\n",
       "      <td>Graduate</td>\n",
       "      <td>STEM</td>\n",
       "      <td>14</td>\n",
       "      <td>50-99</td>\n",
       "      <td>Pvt Ltd</td>\n",
       "      <td>1</td>\n",
       "      <td>3.258097</td>\n",
       "      <td>0</td>\n",
       "      <td>l2</td>\n",
       "    </tr>\n",
       "    <tr>\n",
       "      <th>4</th>\n",
       "      <td>21751</td>\n",
       "      <td>city_100</td>\n",
       "      <td>0.887</td>\n",
       "      <td>NaN</td>\n",
       "      <td>No relevent experience</td>\n",
       "      <td>no_enrollment</td>\n",
       "      <td>Masters</td>\n",
       "      <td>STEM</td>\n",
       "      <td>8</td>\n",
       "      <td>NaN</td>\n",
       "      <td>NaN</td>\n",
       "      <td>2</td>\n",
       "      <td>4.477337</td>\n",
       "      <td>1</td>\n",
       "      <td>h5</td>\n",
       "    </tr>\n",
       "  </tbody>\n",
       "</table>\n",
       "</div>"
      ],
      "text/plain": [
       "   enrollee_id      city  city_development_index gender  \\\n",
       "0        23798  city_149                   0.689   Male   \n",
       "1        29166   city_83                   0.923   Male   \n",
       "2           46   city_16                   0.910    NaN   \n",
       "3        18527   city_64                   0.666   Male   \n",
       "4        21751  city_100                   0.887    NaN   \n",
       "\n",
       "       relevent_experience enrolled_university education_level  \\\n",
       "0  Has relevent experience       no_enrollment        Graduate   \n",
       "1  Has relevent experience       no_enrollment        Graduate   \n",
       "2  Has relevent experience       no_enrollment        Graduate   \n",
       "3  Has relevent experience       no_enrollment        Graduate   \n",
       "4   No relevent experience       no_enrollment         Masters   \n",
       "\n",
       "  major_discipline experience company_size    company_type last_new_job  \\\n",
       "0             STEM          3      100-500         Pvt Ltd            1   \n",
       "1             STEM         14          <10  Funded Startup            1   \n",
       "2             STEM          6        50-99   Public Sector            2   \n",
       "3             STEM         14        50-99         Pvt Ltd            1   \n",
       "4             STEM          8          NaN             NaN            2   \n",
       "\n",
       "   training_hours  target CITY_DVLPMNT_binned  \n",
       "0        4.663439       0                  l2  \n",
       "1        4.234107       0                  h5  \n",
       "2        1.386294       0                  h5  \n",
       "3        3.258097       0                  l2  \n",
       "4        4.477337       1                  h5  "
      ]
     },
     "execution_count": 74,
     "metadata": {},
     "output_type": "execute_result"
    }
   ],
   "source": [
    "#Lets explore train_part for modeling excercise.\n",
    "\n",
    "#look at first few row of train_part\n",
    "\n",
    "train.head()"
   ]
  },
  {
   "cell_type": "code",
   "execution_count": 75,
   "metadata": {},
   "outputs": [
    {
     "name": "stdout",
     "output_type": "stream",
     "text": [
      "enrollee_id                  0\n",
      "city                         0\n",
      "city_development_index       0\n",
      "gender                    4098\n",
      "relevent_experience          0\n",
      "enrolled_university        342\n",
      "education_level            457\n",
      "major_discipline          2838\n",
      "experience                  59\n",
      "company_size              4779\n",
      "company_type              5039\n",
      "last_new_job               367\n",
      "training_hours               0\n",
      "target                       0\n",
      "CITY_DVLPMNT_binned          0\n",
      "dtype: int64\n",
      "\n",
      "\n",
      "Percentage of missing values:\n",
      "\n",
      "enrollee_id                0.000000\n",
      "city                       0.000000\n",
      "city_development_index     0.000000\n",
      "gender                    22.321477\n",
      "relevent_experience        0.000000\n",
      "enrolled_university        1.862847\n",
      "education_level            2.489242\n",
      "major_discipline          15.458358\n",
      "experience                 0.321368\n",
      "company_size              26.030830\n",
      "company_type              27.447029\n",
      "last_new_job               1.999020\n",
      "training_hours             0.000000\n",
      "target                     0.000000\n",
      "CITY_DVLPMNT_binned        0.000000\n",
      "dtype: float64\n"
     ]
    }
   ],
   "source": [
    "# checking missing values in train\n",
    "print(train.isnull().sum())\n",
    "\n",
    "# percentage of missing values\n",
    "print(\"\\n\\nPercentage of missing values:\\n\")\n",
    "print(((train.isnull().sum())/train.shape[0])*100)"
   ]
  },
  {
   "cell_type": "markdown",
   "metadata": {},
   "source": [
    "* Total 8 features have missing values in them.\n",
    "* From these 4 features have around ~20% missing values.\n",
    "* And 4 feature have less than 3 % missing values.\n",
    "* For sure model is sensitive to missing value treatment exercise."
   ]
  },
  {
   "cell_type": "code",
   "execution_count": 76,
   "metadata": {},
   "outputs": [
    {
     "name": "stdout",
     "output_type": "stream",
     "text": [
      "enrolled_university values:\n",
      "['no_enrollment' 'Full time course' 'Part time course' nan] \n",
      "\n",
      "\n",
      "last_new_job values:\n",
      "['1' '2' '3' '>4' 'never' '4' nan] \n",
      "\n",
      "\n",
      "education_level values:\n",
      "['Graduate' 'Masters' 'High School' 'Phd' nan 'Primary School'] \n",
      "\n",
      "\n",
      "experience values:\n",
      "['3' '14' '6' '8' '>20' '4' '9' '15' '10' '1' '5' '16' '11' '12' '7' '2'\n",
      " '13' '<1' '19' '18' '17' nan '20'] \n",
      "\n",
      "\n"
     ]
    }
   ],
   "source": [
    "#small is for feature having less than 3% missing values.\n",
    "\n",
    "small=['enrolled_university','last_new_job','education_level','experience'] #features having <2% missing values\n",
    "for i in range(len(small)):  #Viewing unique values \n",
    "    print(small[i], 'values:')\n",
    "    print(train[small[i]].unique(),'\\n\\n')\n",
    "#checking levels in small    \n"
   ]
  },
  {
   "cell_type": "code",
   "execution_count": 77,
   "metadata": {},
   "outputs": [],
   "source": [
    "''' One way to handle <2% MISSING is by mode imputation, lets perform it'''\n",
    "train['enrolled_university'].fillna('no_enrollment',inplace=True)\n",
    "train['last_new_job'].fillna('1',inplace=True)\n",
    "train['education_level'].fillna('Graduate',inplace=True)\n",
    "train['experience'].fillna('>20',inplace=True)\n",
    "\n"
   ]
  },
  {
   "cell_type": "code",
   "execution_count": 78,
   "metadata": {},
   "outputs": [
    {
     "data": {
      "text/plain": [
       "no_enrollment       14001\n",
       "Full time course     3187\n",
       "Part time course     1171\n",
       "Name: enrolled_university, dtype: int64"
      ]
     },
     "execution_count": 78,
     "metadata": {},
     "output_type": "execute_result"
    }
   ],
   "source": [
    "train.enrolled_university.value_counts()\n",
    "#check if imputation was successful"
   ]
  },
  {
   "cell_type": "code",
   "execution_count": 79,
   "metadata": {
    "scrolled": true
   },
   "outputs": [],
   "source": [
    "more=['gender','company_size','company_type','major_discipline'] \n",
    "#more is for features having missing values greater than 15%\n",
    "for i in range(len(more)):\n",
    "    more[i]\n",
    "    train[more[i]].fillna('MISSING',axis=0,inplace=True)\n",
    "#Filling missing values with mode is not a decent move as missing values frequency is\n",
    "# too close to other level in same feature\n",
    "# So created a new level 'MISSING' is being done.\n",
    "    "
   ]
  },
  {
   "cell_type": "markdown",
   "metadata": {},
   "source": [
    "### Hypothesis Excercise\n",
    "(One by one)"
   ]
  },
  {
   "cell_type": "markdown",
   "metadata": {},
   "source": [
    "1. lets create a new feature 'DISSATISFIED_WITH_SALARY' indicating if particular candidate is dissatisfied with his/her salary or not.\n",
    "\n",
    "If an employed candidate taking lesser training_hours compared to other candidates with \n",
    "same qualification level. I am making it proxy with salary dis/satisfaction.\n",
    "\n",
    "Assuming :\n",
    "1. Candidate pyscologically compares with peers of same education level.\n",
    "2. Candidate with similar education level earns same salary.\n",
    "3. Spending behaviour depend on the earning. Since all have similar salary, candidate with \n",
    "   similar qualification must have joined same training_hours choice.\n",
    "4. Higher the training_hours, due to course depth, highers will be the fees.\n",
    "\n",
    "\n"
   ]
  },
  {
   "cell_type": "code",
   "execution_count": 80,
   "metadata": {},
   "outputs": [
    {
     "data": {
      "text/html": [
       "<div>\n",
       "<style scoped>\n",
       "    .dataframe tbody tr th:only-of-type {\n",
       "        vertical-align: middle;\n",
       "    }\n",
       "\n",
       "    .dataframe tbody tr th {\n",
       "        vertical-align: top;\n",
       "    }\n",
       "\n",
       "    .dataframe thead th {\n",
       "        text-align: right;\n",
       "    }\n",
       "</style>\n",
       "<table border=\"1\" class=\"dataframe\">\n",
       "  <thead>\n",
       "    <tr style=\"text-align: right;\">\n",
       "      <th></th>\n",
       "      <th>enrollee_id</th>\n",
       "      <th>city_development_index</th>\n",
       "      <th>training_hours</th>\n",
       "      <th>target</th>\n",
       "    </tr>\n",
       "    <tr>\n",
       "      <th>education_level</th>\n",
       "      <th></th>\n",
       "      <th></th>\n",
       "      <th></th>\n",
       "      <th></th>\n",
       "    </tr>\n",
       "  </thead>\n",
       "  <tbody>\n",
       "    <tr>\n",
       "      <th>Graduate</th>\n",
       "      <td>16860.399430</td>\n",
       "      <td>0.842175</td>\n",
       "      <td>3.773484</td>\n",
       "      <td>0.141903</td>\n",
       "    </tr>\n",
       "    <tr>\n",
       "      <th>High School</th>\n",
       "      <td>16770.493602</td>\n",
       "      <td>0.850658</td>\n",
       "      <td>3.788324</td>\n",
       "      <td>0.118602</td>\n",
       "    </tr>\n",
       "    <tr>\n",
       "      <th>Masters</th>\n",
       "      <td>16550.428340</td>\n",
       "      <td>0.852673</td>\n",
       "      <td>3.738649</td>\n",
       "      <td>0.118777</td>\n",
       "    </tr>\n",
       "    <tr>\n",
       "      <th>Phd</th>\n",
       "      <td>14803.514161</td>\n",
       "      <td>0.889773</td>\n",
       "      <td>3.764044</td>\n",
       "      <td>0.115468</td>\n",
       "    </tr>\n",
       "    <tr>\n",
       "      <th>Primary School</th>\n",
       "      <td>17045.578947</td>\n",
       "      <td>0.862963</td>\n",
       "      <td>3.692259</td>\n",
       "      <td>0.077399</td>\n",
       "    </tr>\n",
       "  </tbody>\n",
       "</table>\n",
       "</div>"
      ],
      "text/plain": [
       "                  enrollee_id  city_development_index  training_hours  \\\n",
       "education_level                                                         \n",
       "Graduate         16860.399430                0.842175        3.773484   \n",
       "High School      16770.493602                0.850658        3.788324   \n",
       "Masters          16550.428340                0.852673        3.738649   \n",
       "Phd              14803.514161                0.889773        3.764044   \n",
       "Primary School   17045.578947                0.862963        3.692259   \n",
       "\n",
       "                   target  \n",
       "education_level            \n",
       "Graduate         0.141903  \n",
       "High School      0.118602  \n",
       "Masters          0.118777  \n",
       "Phd              0.115468  \n",
       "Primary School   0.077399  "
      ]
     },
     "execution_count": 80,
     "metadata": {},
     "output_type": "execute_result"
    }
   ],
   "source": [
    "#creating new feature 'DISSATISFIED_WITH_SALARY\n",
    "\n",
    "train.groupby(by='education_level',axis=0).mean() \n",
    "\n",
    "#check mean training_hours in each education_level\n",
    "\n",
    "# Now before going into it we need information on if the candidate is employed or not.\n",
    "# Since a person is dissatisfied with slary iff person is employed.\n",
    "\n"
   ]
  },
  {
   "cell_type": "markdown",
   "metadata": {},
   "source": [
    "2. Lets create a new feature indicating if the candidate is employed or not. As it is \n",
    "required by preveious 'DISSATISFIED_WITH_SALARY new feature creation exercise. For this I will use information from existing feature *enrolled_university*.\n",
    "\n",
    "Assuming: \n",
    "1. If candidate is full time enrolled at university means that person is unemployed otherwise lets assume person is employed."
   ]
  },
  {
   "cell_type": "code",
   "execution_count": 81,
   "metadata": {},
   "outputs": [],
   "source": [
    "# create 'IS_EMPLOYED' feature indicating if the candidate is employed or not.\n",
    "\n",
    "# Lets check all unique values of enrolled_university\n",
    "train['enrolled_university'].unique().tolist()\n",
    "\n",
    "train['IS_EMPLOYED'] = np.where(train.enrolled_university == 'Full time course', '0', '1')\n",
    "\n"
   ]
  },
  {
   "cell_type": "markdown",
   "metadata": {},
   "source": [
    "As IS_EMPLOYED feature is created now I will create new feature 'DISSATISFIED_WITH_SALARY.\n"
   ]
  },
  {
   "cell_type": "code",
   "execution_count": 82,
   "metadata": {},
   "outputs": [],
   "source": [
    "cond1=(train.IS_EMPLOYED == '1')&(train.education_level =='Graduate')&(train.training_hours <= 66)\n",
    "cond2=(train.IS_EMPLOYED == '1')&(train.education_level =='High School')&(train.training_hours <= 66)\n",
    "cond3=(train.IS_EMPLOYED == '1')&(train.education_level =='Masters')&(train.training_hours <= 63)\n",
    "cond4=(train.IS_EMPLOYED == '1')&(train.education_level =='Phd')&(train.training_hours <= 68)\n",
    "cond5=(train.IS_EMPLOYED == '1')&(train.education_level =='Primary School')&(train.training_hours <= 65)\n",
    "train['DISSATISFIED_WITH_SALARY'] = np.where(cond1 | cond2 | cond3| cond4 | cond5,'1','0')"
   ]
  },
  {
   "cell_type": "markdown",
   "metadata": {},
   "source": [
    "Lets create a feature showing if the person has really interest in DS:\n",
    "\n",
    "A candidate having no prior experience of DS plus he/she is from /Arts/No Major background. Then he/she might be interested in DS domain. (scope for a new feature.)\n",
    "    "
   ]
  },
  {
   "cell_type": "code",
   "execution_count": 83,
   "metadata": {},
   "outputs": [],
   "source": [
    "cond6=(train.relevent_experience == 'No relevent experience')&(train.major_discipline == 'Arts')\n",
    "cond7=(train.relevent_experience == 'No relevent experience')&(train.major_discipline == 'No Major')\n",
    "\n",
    "train['PASSION_FOR_DS'] = np.where( cond6 | cond7,'1','0') "
   ]
  },
  {
   "cell_type": "markdown",
   "metadata": {},
   "source": [
    "What if person current job profile started demanding DS knowledge to tackle problem as DS is making its ways to different industry.:\n",
    "\n",
    "Say a candidate has not any relevant experience and also having experience of 10+ years so it might be due to fact that his/her current job started demanding DS knowledge.(So a new feature would be constructed from combination of relevant_experience and experience i.e, no relevant experience with ~10+ yrs total experience)"
   ]
  },
  {
   "cell_type": "code",
   "execution_count": 84,
   "metadata": {},
   "outputs": [],
   "source": [
    "#lets convert >20 to 21 and <1 to 0 for simplification\n",
    "train['experience'] = train['experience'].str.replace('<1','0')\n",
    "train['experience'] = train['experience'].str.replace('>20','21')"
   ]
  },
  {
   "cell_type": "code",
   "execution_count": 85,
   "metadata": {},
   "outputs": [],
   "source": [
    "#lets create JOB_START_DEMANDING_DS_SKILLS\n",
    "cond8 = (train.relevent_experience == 'No relevent experience')&(train.experience.astype('int64') > 4)\n",
    "\n",
    "train['JOB_START_DEMANDING_DS_SKILLS'] = np.where( cond8,'1','0') "
   ]
  },
  {
   "cell_type": "markdown",
   "metadata": {},
   "source": [
    "If the candidate having relevant experience it is majorly possibly due to three big reasons:\n",
    "1. Candidate has studies on his own @ college.\n",
    "2. Has done a training prior to this training. So might be brushing up his knowledge with small training hours.\n",
    "3. Candidate has studied it under his/her curriculam.\n",
    "\n",
    "\tTherefore, we can create a new feature: Candidate with small training hours plus has \t\trelevant experience are more likely to be repeating ones (say). On other side candidate with \tno relvant experience are definetely attending for first time.\n",
    "\t\n"
   ]
  },
  {
   "cell_type": "code",
   "execution_count": 86,
   "metadata": {},
   "outputs": [],
   "source": [
    "#REPEATERS\n",
    "cond9 = (train.training_hours < 16)&(train.relevent_experience =='Has relevent experience')\n",
    "train['REPEATERS'] = np.where(cond9,'1','0')"
   ]
  },
  {
   "cell_type": "code",
   "execution_count": 87,
   "metadata": {},
   "outputs": [],
   "source": [
    "#for XGBOOST only \n",
    "train['company_size'] = train['company_size'].str.replace('<10','LESS10')\n",
    "train['last_new_job'] = train['last_new_job'].str.replace('>4','LARGE4')"
   ]
  },
  {
   "cell_type": "code",
   "execution_count": 88,
   "metadata": {},
   "outputs": [],
   "source": [
    "\n",
    "category_cols = ['gender','relevent_experience','enrolled_university','education_level','major_discipline','experience','company_size','company_type','last_new_job']\n",
    "\n",
    "\n",
    "for header in category_cols:\n",
    "    train[header] = train[header].astype('category').cat.codes\n",
    "\n",
    "\n"
   ]
  },
  {
   "cell_type": "code",
   "execution_count": 89,
   "metadata": {},
   "outputs": [],
   "source": [
    "'''Developing model'''\n",
    "X= train.drop(['target','enrollee_id'],axis=1)\n",
    "y= train['target']\n",
    "\n",
    "X=pd.get_dummies(X)\n",
    "\n",
    "#lets further train_part into two parts model tuning exercise.\n",
    "from sklearn.cross_validation import train_test_split\n",
    "X_trainset, X_testset, y_trainset, y_testset = train_test_split(X, y, test_size=0.3, random_state=7,stratify=y)"
   ]
  },
  {
   "cell_type": "code",
   "execution_count": 90,
   "metadata": {},
   "outputs": [],
   "source": [
    "import xgboost as xgb\n",
    "from xgboost.sklearn import XGBClassifier\n"
   ]
  },
  {
   "cell_type": "code",
   "execution_count": 91,
   "metadata": {},
   "outputs": [],
   "source": [
    "switch = XGBClassifier(learning_rate=0.09,n_estimators=125,max_depth=4,min_child_weight=4,colsample_bytree=0.5,reg_alpha=0.000001 )"
   ]
  },
  {
   "cell_type": "code",
   "execution_count": 92,
   "metadata": {},
   "outputs": [],
   "source": [
    "from sklearn.model_selection import cross_val_score"
   ]
  },
  {
   "cell_type": "code",
   "execution_count": 93,
   "metadata": {},
   "outputs": [],
   "source": [
    "from sklearn.metrics import roc_auc_score\n"
   ]
  },
  {
   "cell_type": "code",
   "execution_count": 54,
   "metadata": {},
   "outputs": [],
   "source": [
    "#cross validation score\n",
    "Accuracies = cross_val_score(switch,X_trainset,y_trainset,cv=8,scoring= 'roc_auc')"
   ]
  },
  {
   "cell_type": "code",
   "execution_count": 55,
   "metadata": {},
   "outputs": [
    {
     "data": {
      "text/plain": [
       "array([0.64473724, 0.62469061, 0.65545566, 0.66701632, 0.6797833 ,\n",
       "       0.66481687, 0.65606474, 0.67711181])"
      ]
     },
     "execution_count": 55,
     "metadata": {},
     "output_type": "execute_result"
    }
   ],
   "source": [
    "Accuracies "
   ]
  },
  {
   "cell_type": "code",
   "execution_count": 94,
   "metadata": {},
   "outputs": [],
   "source": [
    "np.mean(Accuracies)"
   ]
  },
  {
   "cell_type": "code",
   "execution_count": 95,
   "metadata": {},
   "outputs": [
    {
     "data": {
      "text/plain": [
       "XGBClassifier(base_score=0.5, booster='gbtree', colsample_bylevel=1,\n",
       "       colsample_bytree=0.5, gamma=0, learning_rate=0.09, max_delta_step=0,\n",
       "       max_depth=4, min_child_weight=4, missing=None, n_estimators=125,\n",
       "       n_jobs=1, nthread=None, objective='binary:logistic', random_state=0,\n",
       "       reg_alpha=1e-06, reg_lambda=1, scale_pos_weight=1, seed=None,\n",
       "       silent=True, subsample=1)"
      ]
     },
     "execution_count": 95,
     "metadata": {},
     "output_type": "execute_result"
    }
   ],
   "source": [
    "'''Developing model on full train'''\n",
    "switch.fit(X,y)"
   ]
  },
  {
   "cell_type": "markdown",
   "metadata": {},
   "source": [
    "### Lets predict for test dataset  \n"
   ]
  },
  {
   "cell_type": "code",
   "execution_count": 96,
   "metadata": {},
   "outputs": [],
   "source": [
    "#log transformation for right skewed\n",
    "test['training_hours'] = np.log(test['training_hours'])"
   ]
  },
  {
   "cell_type": "code",
   "execution_count": 97,
   "metadata": {},
   "outputs": [],
   "source": [
    "#bins for city development_index\n",
    "bins = [0, 0.75,0.85,0.99]\n",
    "labels = ['l2','m','h5']\n",
    "test['CITY_DVLPMNT_binned'] = pd.cut(test['city_development_index'], bins=bins, labels=labels)"
   ]
  },
  {
   "cell_type": "code",
   "execution_count": 98,
   "metadata": {},
   "outputs": [
    {
     "name": "stdout",
     "output_type": "stream",
     "text": [
      "enrollee_id                  0\n",
      "city                         0\n",
      "city_development_index       0\n",
      "gender                    3388\n",
      "relevent_experience          0\n",
      "enrolled_university        279\n",
      "education_level            395\n",
      "major_discipline          2393\n",
      "experience                  44\n",
      "company_size              4051\n",
      "company_type              4330\n",
      "last_new_job               304\n",
      "training_hours               0\n",
      "CITY_DVLPMNT_binned          0\n",
      "dtype: int64\n",
      "\n",
      "\n",
      "Percentage of missing values:\n",
      "\n",
      "enrollee_id                0.000000\n",
      "city                       0.000000\n",
      "city_development_index     0.000000\n",
      "gender                    22.555090\n",
      "relevent_experience        0.000000\n",
      "enrolled_university        1.857400\n",
      "education_level            2.629652\n",
      "major_discipline          15.931030\n",
      "experience                 0.292923\n",
      "company_size              26.968910\n",
      "company_type              28.826310\n",
      "last_new_job               2.023833\n",
      "training_hours             0.000000\n",
      "CITY_DVLPMNT_binned        0.000000\n",
      "dtype: float64\n"
     ]
    }
   ],
   "source": [
    "# checking missing values in train\n",
    "print(test.isnull().sum())\n",
    "\n",
    "# percentage of missing values\n",
    "print(\"\\n\\nPercentage of missing values:\\n\")\n",
    "print(((test.isnull().sum())/test.shape[0])*100)"
   ]
  },
  {
   "cell_type": "code",
   "execution_count": 99,
   "metadata": {},
   "outputs": [
    {
     "name": "stdout",
     "output_type": "stream",
     "text": [
      "enrolled_university values:\n",
      "['Full time course' 'no_enrollment' 'Part time course' nan] \n",
      "\n",
      "\n",
      "last_new_job values:\n",
      "[nan '1' '2' '>4' 'never' '4' '3'] \n",
      "\n",
      "\n",
      "education_level values:\n",
      "['Graduate' 'Phd' 'High School' 'Masters' nan 'Primary School'] \n",
      "\n",
      "\n",
      "experience values:\n",
      "['<1' '>20' '3' '6' '7' '9' '18' '2' '10' '14' '16' '5' '19' '17' '4' '8'\n",
      " '12' '13' '20' '15' '1' '11' nan] \n",
      "\n",
      "\n"
     ]
    }
   ],
   "source": [
    "small=['enrolled_university','last_new_job','education_level','experience'] #features having <2% missing values\n",
    "for i in range(len(small)):  #Viewing unique values \n",
    "    print(small[i], 'values:')\n",
    "    print(test[small[i]].unique(),'\\n\\n')\n",
    "    \n"
   ]
  },
  {
   "cell_type": "code",
   "execution_count": 100,
   "metadata": {},
   "outputs": [],
   "source": [
    "''' One way to handle <2% MISSING is by mode imputation, lets perform it'''\n",
    "test['enrolled_university'].fillna('no_enrollment',inplace=True)\n",
    "test['last_new_job'].fillna('1',inplace=True)\n",
    "test['education_level'].fillna('Graduate',inplace=True)\n",
    "test['experience'].fillna('>20',inplace=True)\n",
    "\n"
   ]
  },
  {
   "cell_type": "code",
   "execution_count": 101,
   "metadata": {},
   "outputs": [
    {
     "data": {
      "text/plain": [
       "no_enrollment       11507\n",
       "Full time course     2565\n",
       "Part time course      949\n",
       "Name: enrolled_university, dtype: int64"
      ]
     },
     "execution_count": 101,
     "metadata": {},
     "output_type": "execute_result"
    }
   ],
   "source": [
    "test.enrolled_university.value_counts()"
   ]
  },
  {
   "cell_type": "code",
   "execution_count": 102,
   "metadata": {},
   "outputs": [],
   "source": [
    "more=['gender','company_size','company_type','major_discipline'] \n",
    "#features having missing values\n",
    "for i in range(len(more)):\n",
    "    more[i]\n",
    "    test[more[i]].fillna('MISSING',axis=0,inplace=True)\n",
    "\n",
    "    "
   ]
  },
  {
   "cell_type": "code",
   "execution_count": 103,
   "metadata": {},
   "outputs": [],
   "source": [
    "test['IS_EMPLOYED'] = np.where(test.enrolled_university == 'Full time course', '0', '1')\n",
    "\n"
   ]
  },
  {
   "cell_type": "code",
   "execution_count": 104,
   "metadata": {},
   "outputs": [],
   "source": [
    "cond1=(test.IS_EMPLOYED == '1')&(test.education_level =='Graduate')&(test.training_hours <= 66)\n",
    "cond2=(test.IS_EMPLOYED == '1')&(test.education_level =='High School')&(test.training_hours <= 66)\n",
    "cond3=(test.IS_EMPLOYED == '1')&(test.education_level =='Masters')&(test.training_hours <= 63)\n",
    "cond4=(test.IS_EMPLOYED == '1')&(test.education_level =='Phd')&(test.training_hours <= 68)\n",
    "cond5=(test.IS_EMPLOYED == '1')&(test.education_level =='Primary School')&(test.training_hours <= 65)\n",
    "test['DISSATISFIED_WITH_SALARY'] = np.where(cond1 | cond2 | cond3| cond4 | cond5,'1','0')"
   ]
  },
  {
   "cell_type": "code",
   "execution_count": 105,
   "metadata": {},
   "outputs": [],
   "source": [
    "cond6=(test.relevent_experience == 'No relevent experience')&(test.major_discipline == 'Arts')\n",
    "cond7=(test.relevent_experience == 'No relevent experience')&(test.major_discipline == 'No Major')\n",
    "\n",
    "test['PASSION_FOR_DS'] = np.where( cond6 | cond7,'1','0') "
   ]
  },
  {
   "cell_type": "code",
   "execution_count": 106,
   "metadata": {},
   "outputs": [],
   "source": [
    "#lets convert >20 to 21 and <1 to 0 for simplification\n",
    "test['experience'] = test['experience'].str.replace('<1','0')\n",
    "test['experience'] = test['experience'].str.replace('>20','21')"
   ]
  },
  {
   "cell_type": "code",
   "execution_count": 107,
   "metadata": {},
   "outputs": [],
   "source": [
    "#lets create JOB_START_DEMANDING_DS_SKILLS\n",
    "cond8 = (test.relevent_experience == 'No relevent experience')&(test.experience.astype('int64') > 4)\n",
    "\n",
    "test['JOB_START_DEMANDING_DS_SKILLS'] = np.where( cond8,'1','0') "
   ]
  },
  {
   "cell_type": "code",
   "execution_count": 108,
   "metadata": {},
   "outputs": [],
   "source": [
    "cond9 = (test.training_hours < 16)&(test.relevent_experience =='Has relevent experience')\n",
    "test['REPEATERS'] = np.where(cond9,'1','0')"
   ]
  },
  {
   "cell_type": "code",
   "execution_count": 109,
   "metadata": {},
   "outputs": [],
   "source": [
    "#for XGBOOST only\n",
    "test['company_size'] = test['company_size'].str.replace('<10','LESS10')\n",
    "test['last_new_job'] = test['last_new_job'].str.replace('>4','LARGE4')"
   ]
  },
  {
   "cell_type": "code",
   "execution_count": 110,
   "metadata": {},
   "outputs": [],
   "source": [
    "\n",
    "category_cols = ['gender','relevent_experience','enrolled_university','education_level','major_discipline','experience','company_size','company_type','last_new_job']\n",
    "\n",
    "for header in category_cols:\n",
    "    test[header] = test[header].astype('category').cat.codes"
   ]
  },
  {
   "cell_type": "code",
   "execution_count": 111,
   "metadata": {},
   "outputs": [],
   "source": [
    "'''predicting test target'''\n",
    "X_test= test.drop('enrollee_id',axis=1)\n",
    "\n",
    "\n",
    "X_test=pd.get_dummies(X_test)\n"
   ]
  },
  {
   "cell_type": "code",
   "execution_count": 112,
   "metadata": {},
   "outputs": [],
   "source": [
    "test_target=switch.predict_proba(X_test)[:,1]"
   ]
  },
  {
   "cell_type": "code",
   "execution_count": 113,
   "metadata": {},
   "outputs": [],
   "source": [
    "submission['target'] = test_target"
   ]
  },
  {
   "cell_type": "code",
   "execution_count": 114,
   "metadata": {},
   "outputs": [
    {
     "data": {
      "text/html": [
       "<div>\n",
       "<style scoped>\n",
       "    .dataframe tbody tr th:only-of-type {\n",
       "        vertical-align: middle;\n",
       "    }\n",
       "\n",
       "    .dataframe tbody tr th {\n",
       "        vertical-align: top;\n",
       "    }\n",
       "\n",
       "    .dataframe thead th {\n",
       "        text-align: right;\n",
       "    }\n",
       "</style>\n",
       "<table border=\"1\" class=\"dataframe\">\n",
       "  <thead>\n",
       "    <tr style=\"text-align: right;\">\n",
       "      <th></th>\n",
       "      <th>enrollee_id</th>\n",
       "      <th>target</th>\n",
       "    </tr>\n",
       "  </thead>\n",
       "  <tbody>\n",
       "    <tr>\n",
       "      <th>0</th>\n",
       "      <td>16548</td>\n",
       "      <td>0.510850</td>\n",
       "    </tr>\n",
       "    <tr>\n",
       "      <th>1</th>\n",
       "      <td>12036</td>\n",
       "      <td>0.066723</td>\n",
       "    </tr>\n",
       "    <tr>\n",
       "      <th>2</th>\n",
       "      <td>11061</td>\n",
       "      <td>0.362608</td>\n",
       "    </tr>\n",
       "    <tr>\n",
       "      <th>3</th>\n",
       "      <td>5032</td>\n",
       "      <td>0.058193</td>\n",
       "    </tr>\n",
       "    <tr>\n",
       "      <th>4</th>\n",
       "      <td>17599</td>\n",
       "      <td>0.095439</td>\n",
       "    </tr>\n",
       "  </tbody>\n",
       "</table>\n",
       "</div>"
      ],
      "text/plain": [
       "   enrollee_id    target\n",
       "0        16548  0.510850\n",
       "1        12036  0.066723\n",
       "2        11061  0.362608\n",
       "3         5032  0.058193\n",
       "4        17599  0.095439"
      ]
     },
     "execution_count": 114,
     "metadata": {},
     "output_type": "execute_result"
    }
   ],
   "source": [
    "submission.head()"
   ]
  },
  {
   "cell_type": "code",
   "execution_count": 115,
   "metadata": {},
   "outputs": [],
   "source": [
    "submission.to_csv('afterSubmission.csv',index=False)"
   ]
  },
  {
   "cell_type": "code",
   "execution_count": null,
   "metadata": {},
   "outputs": [],
   "source": []
  }
 ],
 "metadata": {
  "kernelspec": {
   "display_name": "Python 3",
   "language": "python",
   "name": "python3"
  },
  "language_info": {
   "codemirror_mode": {
    "name": "ipython",
    "version": 3
   },
   "file_extension": ".py",
   "mimetype": "text/x-python",
   "name": "python",
   "nbconvert_exporter": "python",
   "pygments_lexer": "ipython3",
   "version": "3.6.4"
  }
 },
 "nbformat": 4,
 "nbformat_minor": 2
}
